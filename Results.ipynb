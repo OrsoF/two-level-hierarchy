{
 "cells": [
  {
   "cell_type": "code",
   "execution_count": 1,
   "id": "5816df0e",
   "metadata": {},
   "outputs": [],
   "source": [
    "from envs.rooms import Rooms\n",
    "from envs.tandem import Tandem\n",
    "from solvers.mdptoolbox_solver import solve, show_policy_matrix, test_policy\n",
    "from solvers.hierarchy import Hierarchy, get_policy_matrix"
   ]
  },
  {
   "cell_type": "markdown",
   "id": "9f7638d9",
   "metadata": {},
   "source": [
    "# Rooms"
   ]
  },
  {
   "cell_type": "markdown",
   "id": "a6ecff21",
   "metadata": {},
   "source": [
    "## Policy Iteration"
   ]
  },
  {
   "cell_type": "code",
   "execution_count": 2,
   "id": "31c57930",
   "metadata": {},
   "outputs": [
    {
     "name": "stdout",
     "output_type": "stream",
     "text": [
      "[['E' 'E' 'N' 'W' 'W' 'S' 'S' 'S' 'S' 'S']\n",
      " ['N' 'N' 'N' 'N' 'N' 'S' 'S' 'S' 'S' 'S']\n",
      " ['N' 'N' 'N' 'N' 'N' 'W' 'W' 'W' 'W' 'W']\n",
      " ['N' 'N' 'N' 'N' 'N' 'N' 'N' 'N' 'N' 'N']\n",
      " ['N' 'N' 'N' 'N' 'N' 'N' 'N' 'N' 'N' 'N']\n",
      " ['E' 'E' 'N' 'W' 'W' 'S' 'E' 'N' 'W' 'W']\n",
      " ['N' 'N' 'N' 'N' 'N' 'S' 'N' 'N' 'N' 'N']\n",
      " ['N' 'N' 'N' 'N' 'N' 'W' 'W' 'N' 'N' 'N']\n",
      " ['N' 'N' 'N' 'N' 'N' 'N' 'N' 'N' 'N' 'N']\n",
      " ['N' 'N' 'N' 'N' 'N' 'N' 'N' 'N' 'N' 'N']]\n"
     ]
    }
   ],
   "source": [
    "env = Rooms()\n",
    "vi = solve(env.P, env.R)\n",
    "show_policy_matrix(vi.policy)"
   ]
  },
  {
   "cell_type": "code",
   "execution_count": 3,
   "id": "5387c262",
   "metadata": {},
   "outputs": [
    {
     "name": "stdout",
     "output_type": "stream",
     "text": [
      "1.0\n",
      "\n",
      "[[1. 1. 1. 1. 1. 1. 1. 1. 1. 1.]\n",
      " [1. 1. 1. 1. 1. 1. 1. 1. 1. 1.]\n",
      " [1. 1. 1. 1. 1. 1. 1. 1. 1. 1.]\n",
      " [1. 1. 1. 1. 1. 1. 1. 1. 1. 1.]\n",
      " [1. 1. 1. 1. 1. 1. 1. 1. 1. 1.]\n",
      " [1. 1. 1. 1. 1. 1. 1. 1. 1. 1.]\n",
      " [1. 1. 1. 1. 1. 1. 1. 1. 1. 1.]\n",
      " [1. 1. 1. 1. 1. 1. 1. 1. 1. 1.]\n",
      " [1. 1. 1. 1. 1. 1. 1. 1. 1. 1.]\n",
      " [1. 1. 1. 1. 1. 1. 1. 1. 1. 1.]]\n"
     ]
    }
   ],
   "source": [
    "success, success_table = test_policy(env.P, env.R, vi.policy)\n",
    "print(success)\n",
    "print()\n",
    "print(success_table)"
   ]
  },
  {
   "cell_type": "markdown",
   "id": "28952630",
   "metadata": {},
   "source": [
    "## Hierarchy"
   ]
  },
  {
   "cell_type": "code",
   "execution_count": 4,
   "id": "1b85c829",
   "metadata": {},
   "outputs": [
    {
     "name": "stdout",
     "output_type": "stream",
     "text": [
      "[['E' 'E' 'N' 'W' 'W' 'S' 'S' 'S' 'S' 'S']\n",
      " ['N' 'N' 'N' 'N' 'N' 'S' 'S' 'S' 'S' 'S']\n",
      " ['N' 'N' 'N' 'N' 'N' 'W' 'W' 'W' 'W' 'W']\n",
      " ['S' 'S' 'S' 'S' 'S' 'N' 'N' 'N' 'N' 'N']\n",
      " ['E' 'E' 'S' 'W' 'W' 'N' 'N' 'S' 'W' 'W']\n",
      " ['E' 'E' 'N' 'W' 'W' 'E' 'E' 'N' 'W' 'W']\n",
      " ['N' 'N' 'N' 'N' 'N' 'N' 'N' 'N' 'N' 'N']\n",
      " ['N' 'N' 'N' 'N' 'E' 'W' 'N' 'N' 'N' 'N']\n",
      " ['N' 'N' 'N' 'N' 'N' 'N' 'N' 'N' 'N' 'N']\n",
      " ['N' 'N' 'N' 'N' 'N' 'N' 'N' 'N' 'N' 'N']]\n"
     ]
    }
   ],
   "source": [
    "solver = Hierarchy(env, kappa = -4)\n",
    "show_policy_matrix(get_policy_matrix(solver.params))"
   ]
  },
  {
   "cell_type": "code",
   "execution_count": 5,
   "id": "3c7d49c6",
   "metadata": {},
   "outputs": [
    {
     "name": "stdout",
     "output_type": "stream",
     "text": [
      "0.37\n",
      "\n",
      "[[1. 1. 1. 1. 1. 1. 1. 1. 1. 1.]\n",
      " [1. 1. 1. 1. 1. 1. 1. 1. 1. 1.]\n",
      " [1. 1. 1. 1. 1. 1. 1. 1. 1. 1.]\n",
      " [0. 0. 0. 0. 0. 1. 1. 1. 1. 1.]\n",
      " [0. 0. 0. 0. 0. 1. 1. 0. 0. 0.]\n",
      " [0. 0. 0. 0. 0. 0. 0. 0. 0. 0.]\n",
      " [0. 0. 0. 0. 0. 0. 0. 0. 0. 0.]\n",
      " [0. 0. 0. 0. 0. 0. 0. 0. 0. 0.]\n",
      " [0. 0. 0. 0. 0. 0. 0. 0. 0. 0.]\n",
      " [0. 0. 0. 0. 0. 0. 0. 0. 0. 0.]]\n"
     ]
    }
   ],
   "source": [
    "success, success_table = test_policy(env.P, env.R, get_policy_matrix(solver.params))\n",
    "print(success)\n",
    "print()\n",
    "print(success_table)"
   ]
  },
  {
   "cell_type": "code",
   "execution_count": 6,
   "id": "34946225",
   "metadata": {},
   "outputs": [
    {
     "name": "stdout",
     "output_type": "stream",
     "text": [
      "(0, 2)\n",
      "(1, 0)\n",
      "(2, 0)\n",
      "(3, 1)\n"
     ]
    }
   ],
   "source": [
    "for elem in solver.params['abstract_policy']:\n",
    "    print(solver.params['abstract_action_set'][elem])"
   ]
  },
  {
   "cell_type": "markdown",
   "id": "68f2212a",
   "metadata": {},
   "source": [
    "# Tandem Queue"
   ]
  },
  {
   "cell_type": "markdown",
   "id": "ed05cda6",
   "metadata": {},
   "source": [
    "## Policy Iteration"
   ]
  },
  {
   "cell_type": "code",
   "execution_count": 7,
   "id": "ec5f16e0",
   "metadata": {},
   "outputs": [],
   "source": [
    "env = Tandem()\n",
    "vi = solve(env.P, env.R)"
   ]
  }
 ],
 "metadata": {
  "kernelspec": {
   "display_name": "Python 3 (ipykernel)",
   "language": "python",
   "name": "python3"
  },
  "language_info": {
   "codemirror_mode": {
    "name": "ipython",
    "version": 3
   },
   "file_extension": ".py",
   "mimetype": "text/x-python",
   "name": "python",
   "nbconvert_exporter": "python",
   "pygments_lexer": "ipython3",
   "version": "3.9.12"
  }
 },
 "nbformat": 4,
 "nbformat_minor": 5
}
